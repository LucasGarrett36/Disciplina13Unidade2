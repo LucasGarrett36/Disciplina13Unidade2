{
  "cells": [
    {
      "cell_type": "markdown",
      "metadata": {
        "id": "view-in-github",
        "colab_type": "text"
      },
      "source": [
        "<a href=\"https://colab.research.google.com/github/LucasGarrett36/Disciplina13Unidade2/blob/main/ATV1%2C_este_%C3%A9_o_Colaboratory.ipynb\" target=\"_parent\"><img src=\"https://colab.research.google.com/assets/colab-badge.svg\" alt=\"Open In Colab\"/></a>"
      ]
    },
    {
      "cell_type": "code",
      "source": [
        "import pandas as pd\n",
        "\n",
        "dados = {\n",
        "    \"Data\": [\"15/01/2025\"] * 5,\n",
        "    \"Cidade\": [\"São Paulo\", \"Rio de Janeiro\", \"Curitiba\", \"Porto Alegre\", \"Salvador\"],\n",
        "    \"Temperatura Máxima (°C)\": [30.5, 35.0, 24.0, 28.0, 31.0],\n",
        "    \"Temperatura Mínima (°C)\": [22.0, 25.0, 18.0, 20.0, 24.5],\n",
        "    \"Precipitação (mm)\": [12.0, None, 8.0, 15.0, None],\n",
        "    \"Umidade Relativa (%)\": [78, 70, None, 82, 80]\n",
        "}\n",
        "\n",
        "df = pd.DataFrame(dados)\n",
        "\n",
        "df[\"Precipitação (mm)\"].fillna(df[\"Precipitação (mm)\"].mean(), inplace=True)\n",
        "\n",
        "df[\"Umidade Relativa (%)\"].fillna(df[\"Umidade Relativa (%)\"].median(), inplace=True)\n",
        "\n",
        "df[\"Amplitude Térmica\"] = df[\"Temperatura Máxima (°C)\"] - df[\"Temperatura Mínima (°C)\"]\n",
        "\n",
        "df_altas_temperaturas = df[df[\"Temperatura Máxima (°C)\"] > 30]\n",
        "\n",
        "df = df[[\"Data\", \"Cidade\", \"Temperatura Máxima (°C)\", \"Temperatura Mínima (°C)\",\n",
        "         \"Amplitude Térmica\", \"Precipitação (mm)\", \"Umidade Relativa (%)\"]]\n",
        "\n",
        "print(\"📊 DataFrame Completo:\")\n",
        "print(df)\n",
        "\n",
        "print(\"\\n🔥 Cidades com Temperatura Máxima acima de 30°C:\")\n",
        "print(df_altas_temperaturas)\n"
      ],
      "metadata": {
        "colab": {
          "base_uri": "https://localhost:8080/"
        },
        "id": "T_IAv1I148qL",
        "outputId": "c1a72a79-2aad-46d9-f922-b311039ebd0c"
      },
      "execution_count": 4,
      "outputs": [
        {
          "output_type": "stream",
          "name": "stdout",
          "text": [
            "📊 DataFrame Completo:\n",
            "         Data          Cidade  Temperatura Máxima (°C)  \\\n",
            "0  15/01/2025       São Paulo                     30.5   \n",
            "1  15/01/2025  Rio de Janeiro                     35.0   \n",
            "2  15/01/2025        Curitiba                     24.0   \n",
            "3  15/01/2025    Porto Alegre                     28.0   \n",
            "4  15/01/2025        Salvador                     31.0   \n",
            "\n",
            "   Temperatura Mínima (°C)  Amplitude Térmica  Precipitação (mm)  \\\n",
            "0                     22.0                8.5          12.000000   \n",
            "1                     25.0               10.0          11.666667   \n",
            "2                     18.0                6.0           8.000000   \n",
            "3                     20.0                8.0          15.000000   \n",
            "4                     24.5                6.5          11.666667   \n",
            "\n",
            "   Umidade Relativa (%)  \n",
            "0                  78.0  \n",
            "1                  70.0  \n",
            "2                  79.0  \n",
            "3                  82.0  \n",
            "4                  80.0  \n",
            "\n",
            "🔥 Cidades com Temperatura Máxima acima de 30°C:\n",
            "         Data          Cidade  Temperatura Máxima (°C)  \\\n",
            "0  15/01/2025       São Paulo                     30.5   \n",
            "1  15/01/2025  Rio de Janeiro                     35.0   \n",
            "4  15/01/2025        Salvador                     31.0   \n",
            "\n",
            "   Temperatura Mínima (°C)  Precipitação (mm)  Umidade Relativa (%)  \\\n",
            "0                     22.0          12.000000                  78.0   \n",
            "1                     25.0          11.666667                  70.0   \n",
            "4                     24.5          11.666667                  80.0   \n",
            "\n",
            "   Amplitude Térmica  \n",
            "0                8.5  \n",
            "1               10.0  \n",
            "4                6.5  \n"
          ]
        },
        {
          "output_type": "stream",
          "name": "stderr",
          "text": [
            "<ipython-input-4-4c0491239a02>:14: FutureWarning: A value is trying to be set on a copy of a DataFrame or Series through chained assignment using an inplace method.\n",
            "The behavior will change in pandas 3.0. This inplace method will never work because the intermediate object on which we are setting values always behaves as a copy.\n",
            "\n",
            "For example, when doing 'df[col].method(value, inplace=True)', try using 'df.method({col: value}, inplace=True)' or df[col] = df[col].method(value) instead, to perform the operation inplace on the original object.\n",
            "\n",
            "\n",
            "  df[\"Precipitação (mm)\"].fillna(df[\"Precipitação (mm)\"].mean(), inplace=True)\n",
            "<ipython-input-4-4c0491239a02>:16: FutureWarning: A value is trying to be set on a copy of a DataFrame or Series through chained assignment using an inplace method.\n",
            "The behavior will change in pandas 3.0. This inplace method will never work because the intermediate object on which we are setting values always behaves as a copy.\n",
            "\n",
            "For example, when doing 'df[col].method(value, inplace=True)', try using 'df.method({col: value}, inplace=True)' or df[col] = df[col].method(value) instead, to perform the operation inplace on the original object.\n",
            "\n",
            "\n",
            "  df[\"Umidade Relativa (%)\"].fillna(df[\"Umidade Relativa (%)\"].median(), inplace=True)\n"
          ]
        }
      ]
    },
    {
      "cell_type": "markdown",
      "source": [
        "# Nova seção"
      ],
      "metadata": {
        "id": "B8k3Logt-DRK"
      }
    }
  ],
  "metadata": {
    "colab": {
      "name": "Olá, este é o Colaboratory",
      "toc_visible": true,
      "provenance": [],
      "include_colab_link": true
    },
    "kernelspec": {
      "display_name": "Python 3",
      "name": "python3"
    }
  },
  "nbformat": 4,
  "nbformat_minor": 0
}